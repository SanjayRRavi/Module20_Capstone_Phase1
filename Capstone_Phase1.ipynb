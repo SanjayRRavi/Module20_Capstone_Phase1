{
 "cells": [
  {
   "cell_type": "markdown",
   "id": "70675401",
   "metadata": {},
   "source": [
    "**Problem Statement**\n",
    "* How do we find anomalies during hardware or hardware/software system validation in order to accelerate bug finding for faster time-to-market?\n",
    "* Without answering this question, the hardware/system validation teams will not be able to identify anomalies or bugs quickly, and also will not be able to gain quick insights into what types of sequences or patterns cause these anomalies or bugs to occur within the hardware/system.  This will slow down the debugging required to ship the product out the door to the customer, negatively impacting the hardware business."
   ]
  },
  {
   "cell_type": "markdown",
   "id": "abde0dbb",
   "metadata": {},
   "source": [
    "**Data Source**\n",
    "* Data source is related to LogBERT-HDFS from Github:\n",
    "\n",
    "    * https://github.com/HelenGuohx/logbert"
   ]
  },
  {
   "cell_type": "code",
   "execution_count": 1,
   "id": "a46edfdd",
   "metadata": {},
   "outputs": [],
   "source": [
    "import matplotlib.pyplot as plt\n",
    "import numpy as np\n",
    "import pandas as pd\n",
    "import seaborn as sns\n",
    "from sklearn.cluster import KMeans, DBSCAN"
   ]
  },
  {
   "cell_type": "code",
   "execution_count": 2,
   "id": "6872fe9a",
   "metadata": {},
   "outputs": [],
   "source": [
    "from sklearn.tree import DecisionTreeClassifier, plot_tree\n",
    "from sklearn.model_selection import train_test_split, GridSearchCV\n",
    "from sklearn.metrics import accuracy_score, recall_score, precision_score\n",
    "from sklearn.svm import SVC\n",
    "from sklearn.linear_model import LinearRegression, Ridge, Lasso, LogisticRegression\n",
    "from sklearn.metrics import confusion_matrix, ConfusionMatrixDisplay"
   ]
  },
  {
   "cell_type": "code",
   "execution_count": 3,
   "id": "3d63a42d",
   "metadata": {},
   "outputs": [],
   "source": [
    "import nltk\n",
    "from nltk.tokenize import sent_tokenize, word_tokenize\n",
    "from nltk.stem import PorterStemmer, WordNetLemmatizer\n",
    "from sklearn.feature_extraction.text import CountVectorizer, TfidfVectorizer\n",
    "from sklearn.pipeline import Pipeline"
   ]
  },
  {
   "cell_type": "markdown",
   "id": "b7d9f623",
   "metadata": {},
   "source": [
    "**Tokenization and Initial Pre-processing:**\n",
    "\n",
    "Tokenization and some pre-processing of original logfile, HDFS.log, was done using scripts from the GitHub website below:\n",
    "https://github.com/HelenGuohx/logbert\n",
    "\n",
    "These scripts were created by the author of the above website.\n",
    "\n",
    "After these scripts were run, hdfs_sequence_labels.csv was created, where the tokens are represented as a list of token IDs within the column EventSequence."
   ]
  },
  {
   "cell_type": "code",
   "execution_count": 4,
   "id": "f7479ba4",
   "metadata": {},
   "outputs": [
    {
     "data": {
      "text/html": [
       "<div>\n",
       "<style scoped>\n",
       "    .dataframe tbody tr th:only-of-type {\n",
       "        vertical-align: middle;\n",
       "    }\n",
       "\n",
       "    .dataframe tbody tr th {\n",
       "        vertical-align: top;\n",
       "    }\n",
       "\n",
       "    .dataframe thead th {\n",
       "        text-align: right;\n",
       "    }\n",
       "</style>\n",
       "<table border=\"1\" class=\"dataframe\">\n",
       "  <thead>\n",
       "    <tr style=\"text-align: right;\">\n",
       "      <th></th>\n",
       "      <th>BlockId</th>\n",
       "      <th>EventSequence</th>\n",
       "      <th>Label</th>\n",
       "    </tr>\n",
       "  </thead>\n",
       "  <tbody>\n",
       "    <tr>\n",
       "      <th>0</th>\n",
       "      <td>blk_-1608999687919862906</td>\n",
       "      <td>[1, 7, 1, 1, 3, 3, 4, 4, 3, 4, 2, 2, 2, 11, 1,...</td>\n",
       "      <td>normal</td>\n",
       "    </tr>\n",
       "    <tr>\n",
       "      <th>1</th>\n",
       "      <td>blk_7503483334202473044</td>\n",
       "      <td>[1, 1, 7, 1, 3, 4, 3, 4, 3, 4, 2, 2, 2, 8, 10,...</td>\n",
       "      <td>normal</td>\n",
       "    </tr>\n",
       "    <tr>\n",
       "      <th>2</th>\n",
       "      <td>blk_-3544583377289625738</td>\n",
       "      <td>[1, 7, 1, 1, 3, 4, 3, 4, 3, 4, 8, 2, 2, 2, 8, ...</td>\n",
       "      <td>abnormal</td>\n",
       "    </tr>\n",
       "    <tr>\n",
       "      <th>3</th>\n",
       "      <td>blk_-9073992586687739851</td>\n",
       "      <td>[1, 7, 1, 1, 3, 4, 3, 4, 3, 4, 2, 2, 2, 10, 10...</td>\n",
       "      <td>normal</td>\n",
       "    </tr>\n",
       "    <tr>\n",
       "      <th>4</th>\n",
       "      <td>blk_7854771516489510256</td>\n",
       "      <td>[1, 1, 7, 1, 3, 4, 3, 4, 3, 4, 2, 2, 2, 10, 10...</td>\n",
       "      <td>normal</td>\n",
       "    </tr>\n",
       "  </tbody>\n",
       "</table>\n",
       "</div>"
      ],
      "text/plain": [
       "                    BlockId  \\\n",
       "0  blk_-1608999687919862906   \n",
       "1   blk_7503483334202473044   \n",
       "2  blk_-3544583377289625738   \n",
       "3  blk_-9073992586687739851   \n",
       "4   blk_7854771516489510256   \n",
       "\n",
       "                                       EventSequence     Label  \n",
       "0  [1, 7, 1, 1, 3, 3, 4, 4, 3, 4, 2, 2, 2, 11, 1,...    normal  \n",
       "1  [1, 1, 7, 1, 3, 4, 3, 4, 3, 4, 2, 2, 2, 8, 10,...    normal  \n",
       "2  [1, 7, 1, 1, 3, 4, 3, 4, 3, 4, 8, 2, 2, 2, 8, ...  abnormal  \n",
       "3  [1, 7, 1, 1, 3, 4, 3, 4, 3, 4, 2, 2, 2, 10, 10...    normal  \n",
       "4  [1, 1, 7, 1, 3, 4, 3, 4, 3, 4, 2, 2, 2, 10, 10...    normal  "
      ]
     },
     "execution_count": 4,
     "metadata": {},
     "output_type": "execute_result"
    }
   ],
   "source": [
    "data = pd.read_csv('hdfs_sequence_labels.csv')\n",
    "data.head()"
   ]
  },
  {
   "cell_type": "markdown",
   "id": "fdf50542",
   "metadata": {},
   "source": [
    "**Initial Encoding**\n",
    "\n",
    "These functions below are used to create new columns based on info in EventSequence to help with the clustering in order to define the normal vs. anomaly classes."
   ]
  },
  {
   "cell_type": "code",
   "execution_count": 5,
   "id": "e20707cc",
   "metadata": {},
   "outputs": [],
   "source": [
    "# converts string to list and then computes its length\n",
    "def ListLen(s):\n",
    "    s = s[1:-1]  # delete \"[\" and \"]\"\n",
    "    l1 = s.split(', ') # split string into a list\n",
    "    l1 = [eval(i) for i in l1] # convert each element of list from string to numeric\n",
    "    return len(l1)"
   ]
  },
  {
   "cell_type": "code",
   "execution_count": 6,
   "id": "dc833e87",
   "metadata": {},
   "outputs": [],
   "source": [
    "# converts string to list and then computes its sum\n",
    "def ListSum(s):\n",
    "    s = s[1:-1]  # delete \"[\" and \"]\"\n",
    "    l1 = s.split(', ') # split string into a list\n",
    "    l1 = [eval(i) for i in l1] # convert each element of list from string to numeric\n",
    "    return sum(l1)"
   ]
  },
  {
   "cell_type": "code",
   "execution_count": 7,
   "id": "7779e165",
   "metadata": {},
   "outputs": [],
   "source": [
    "# converts string to list and then computes its maximum\n",
    "def ListMax(s):\n",
    "    s = s[1:-1]  # delete \"[\" and \"]\"\n",
    "    l1 = s.split(', ') # split string into a list\n",
    "    l1 = [eval(i) for i in l1] # convert each element of list from string to numeric\n",
    "    return max(l1)"
   ]
  },
  {
   "cell_type": "code",
   "execution_count": 8,
   "id": "342c4fda",
   "metadata": {},
   "outputs": [],
   "source": [
    "# converts string to list and then computes its minimum\n",
    "def ListMin(s):\n",
    "    s = s[1:-1]  # delete \"[\" and \"]\"\n",
    "    l1 = s.split(', ') # split string into a list\n",
    "    l1 = [eval(i) for i in l1] # convert each element of list from string to numeric\n",
    "    return min(l1)"
   ]
  },
  {
   "cell_type": "code",
   "execution_count": 9,
   "id": "fe11e59d",
   "metadata": {},
   "outputs": [],
   "source": [
    "## source: https://www.geeksforgeeks.org/python-find-most-frequent-element-in-a-list/\n",
    "def most_frequent(s):\n",
    "    s = s[1:-1]  # delete \"[\" and \"]\"\n",
    "    List = s.split(', ') # split string into a list\n",
    "    unique, counts = np.unique(List, return_counts=True)\n",
    "    index = np.argmax(counts)\n",
    "    #print(\"unique:\")\n",
    "    #print(unique)\n",
    "    #print(\"counts:\")\n",
    "    #print(counts)\n",
    "    return int(unique[index])\n",
    "\n",
    "#cnt1 = most_frequent('[1, 2, 2, 34, 2, 34, 7]')\n",
    "#cnt1"
   ]
  },
  {
   "cell_type": "code",
   "execution_count": 10,
   "id": "40c691d1",
   "metadata": {},
   "outputs": [
    {
     "data": {
      "text/html": [
       "<div>\n",
       "<style scoped>\n",
       "    .dataframe tbody tr th:only-of-type {\n",
       "        vertical-align: middle;\n",
       "    }\n",
       "\n",
       "    .dataframe tbody tr th {\n",
       "        vertical-align: top;\n",
       "    }\n",
       "\n",
       "    .dataframe thead th {\n",
       "        text-align: right;\n",
       "    }\n",
       "</style>\n",
       "<table border=\"1\" class=\"dataframe\">\n",
       "  <thead>\n",
       "    <tr style=\"text-align: right;\">\n",
       "      <th></th>\n",
       "      <th>BlockId</th>\n",
       "      <th>EventSequence</th>\n",
       "      <th>Label</th>\n",
       "      <th>seq_len</th>\n",
       "      <th>seq_sum</th>\n",
       "      <th>seq_max</th>\n",
       "      <th>seq_min</th>\n",
       "      <th>seq_freq1</th>\n",
       "    </tr>\n",
       "  </thead>\n",
       "  <tbody>\n",
       "    <tr>\n",
       "      <th>0</th>\n",
       "      <td>blk_-1608999687919862906</td>\n",
       "      <td>[1, 7, 1, 1, 3, 3, 4, 4, 3, 4, 2, 2, 2, 11, 1,...</td>\n",
       "      <td>normal</td>\n",
       "      <td>269</td>\n",
       "      <td>2067</td>\n",
       "      <td>21</td>\n",
       "      <td>1</td>\n",
       "      <td>8</td>\n",
       "    </tr>\n",
       "    <tr>\n",
       "      <th>1</th>\n",
       "      <td>blk_7503483334202473044</td>\n",
       "      <td>[1, 1, 7, 1, 3, 4, 3, 4, 3, 4, 2, 2, 2, 8, 10,...</td>\n",
       "      <td>normal</td>\n",
       "      <td>22</td>\n",
       "      <td>98</td>\n",
       "      <td>10</td>\n",
       "      <td>1</td>\n",
       "      <td>1</td>\n",
       "    </tr>\n",
       "    <tr>\n",
       "      <th>2</th>\n",
       "      <td>blk_-3544583377289625738</td>\n",
       "      <td>[1, 7, 1, 1, 3, 4, 3, 4, 3, 4, 8, 2, 2, 2, 8, ...</td>\n",
       "      <td>abnormal</td>\n",
       "      <td>223</td>\n",
       "      <td>1709</td>\n",
       "      <td>15</td>\n",
       "      <td>1</td>\n",
       "      <td>8</td>\n",
       "    </tr>\n",
       "    <tr>\n",
       "      <th>3</th>\n",
       "      <td>blk_-9073992586687739851</td>\n",
       "      <td>[1, 7, 1, 1, 3, 4, 3, 4, 3, 4, 2, 2, 2, 10, 10...</td>\n",
       "      <td>normal</td>\n",
       "      <td>22</td>\n",
       "      <td>100</td>\n",
       "      <td>10</td>\n",
       "      <td>1</td>\n",
       "      <td>1</td>\n",
       "    </tr>\n",
       "    <tr>\n",
       "      <th>4</th>\n",
       "      <td>blk_7854771516489510256</td>\n",
       "      <td>[1, 1, 7, 1, 3, 4, 3, 4, 3, 4, 2, 2, 2, 10, 10...</td>\n",
       "      <td>normal</td>\n",
       "      <td>38</td>\n",
       "      <td>243</td>\n",
       "      <td>10</td>\n",
       "      <td>1</td>\n",
       "      <td>9</td>\n",
       "    </tr>\n",
       "  </tbody>\n",
       "</table>\n",
       "</div>"
      ],
      "text/plain": [
       "                    BlockId  \\\n",
       "0  blk_-1608999687919862906   \n",
       "1   blk_7503483334202473044   \n",
       "2  blk_-3544583377289625738   \n",
       "3  blk_-9073992586687739851   \n",
       "4   blk_7854771516489510256   \n",
       "\n",
       "                                       EventSequence     Label  seq_len  \\\n",
       "0  [1, 7, 1, 1, 3, 3, 4, 4, 3, 4, 2, 2, 2, 11, 1,...    normal      269   \n",
       "1  [1, 1, 7, 1, 3, 4, 3, 4, 3, 4, 2, 2, 2, 8, 10,...    normal       22   \n",
       "2  [1, 7, 1, 1, 3, 4, 3, 4, 3, 4, 8, 2, 2, 2, 8, ...  abnormal      223   \n",
       "3  [1, 7, 1, 1, 3, 4, 3, 4, 3, 4, 2, 2, 2, 10, 10...    normal       22   \n",
       "4  [1, 1, 7, 1, 3, 4, 3, 4, 3, 4, 2, 2, 2, 10, 10...    normal       38   \n",
       "\n",
       "   seq_sum  seq_max  seq_min  seq_freq1  \n",
       "0     2067       21        1          8  \n",
       "1       98       10        1          1  \n",
       "2     1709       15        1          8  \n",
       "3      100       10        1          1  \n",
       "4      243       10        1          9  "
      ]
     },
     "execution_count": 10,
     "metadata": {},
     "output_type": "execute_result"
    }
   ],
   "source": [
    "## Encode the EventSequence column into length and sum of lists within it.\n",
    "data['seq_len'] = data['EventSequence'].apply(ListLen)\n",
    "data['seq_sum'] = data['EventSequence'].apply(ListSum)\n",
    "data['seq_max'] = data['EventSequence'].apply(ListMax)\n",
    "data['seq_min'] = data['EventSequence'].apply(ListMin)\n",
    "data['seq_freq1'] = data['EventSequence'].apply(most_frequent) # most frequent word/token ID in sequence\n",
    "\n",
    "data.head()"
   ]
  },
  {
   "cell_type": "markdown",
   "id": "2b370a23",
   "metadata": {},
   "source": [
    "**Class Creation Using Unsupervised Learning**\n",
    "\n",
    "KMeans clustering, an unsupervised learning algorithm, was applied in order to create the classes of normal and anomaly, since in the real world the dataset to create the models from might not have pre-defined class labels."
   ]
  },
  {
   "cell_type": "code",
   "execution_count": 11,
   "id": "47bc0760",
   "metadata": {},
   "outputs": [
    {
     "name": "stderr",
     "output_type": "stream",
     "text": [
      "/Library/Frameworks/Python.framework/Versions/3.11/lib/python3.11/site-packages/sklearn/cluster/_kmeans.py:1412: FutureWarning: The default value of `n_init` will change from 10 to 'auto' in 1.4. Set the value of `n_init` explicitly to suppress the warning\n",
      "  super()._check_params_vs_input(X, default_n_init=10)\n"
     ]
    },
    {
     "data": {
      "text/html": [
       "<div>\n",
       "<style scoped>\n",
       "    .dataframe tbody tr th:only-of-type {\n",
       "        vertical-align: middle;\n",
       "    }\n",
       "\n",
       "    .dataframe tbody tr th {\n",
       "        vertical-align: top;\n",
       "    }\n",
       "\n",
       "    .dataframe thead th {\n",
       "        text-align: right;\n",
       "    }\n",
       "</style>\n",
       "<table border=\"1\" class=\"dataframe\">\n",
       "  <thead>\n",
       "    <tr style=\"text-align: right;\">\n",
       "      <th></th>\n",
       "      <th>BlockId</th>\n",
       "      <th>EventSequence</th>\n",
       "      <th>Label</th>\n",
       "      <th>seq_len</th>\n",
       "      <th>seq_sum</th>\n",
       "      <th>seq_max</th>\n",
       "      <th>seq_min</th>\n",
       "      <th>seq_freq1</th>\n",
       "      <th>cluster_labels</th>\n",
       "    </tr>\n",
       "  </thead>\n",
       "  <tbody>\n",
       "    <tr>\n",
       "      <th>0</th>\n",
       "      <td>blk_-1608999687919862906</td>\n",
       "      <td>[1, 7, 1, 1, 3, 3, 4, 4, 3, 4, 2, 2, 2, 11, 1,...</td>\n",
       "      <td>normal</td>\n",
       "      <td>269</td>\n",
       "      <td>2067</td>\n",
       "      <td>21</td>\n",
       "      <td>1</td>\n",
       "      <td>8</td>\n",
       "      <td>4</td>\n",
       "    </tr>\n",
       "    <tr>\n",
       "      <th>1</th>\n",
       "      <td>blk_7503483334202473044</td>\n",
       "      <td>[1, 1, 7, 1, 3, 4, 3, 4, 3, 4, 2, 2, 2, 8, 10,...</td>\n",
       "      <td>normal</td>\n",
       "      <td>22</td>\n",
       "      <td>98</td>\n",
       "      <td>10</td>\n",
       "      <td>1</td>\n",
       "      <td>1</td>\n",
       "      <td>0</td>\n",
       "    </tr>\n",
       "    <tr>\n",
       "      <th>2</th>\n",
       "      <td>blk_-3544583377289625738</td>\n",
       "      <td>[1, 7, 1, 1, 3, 4, 3, 4, 3, 4, 8, 2, 2, 2, 8, ...</td>\n",
       "      <td>abnormal</td>\n",
       "      <td>223</td>\n",
       "      <td>1709</td>\n",
       "      <td>15</td>\n",
       "      <td>1</td>\n",
       "      <td>8</td>\n",
       "      <td>4</td>\n",
       "    </tr>\n",
       "    <tr>\n",
       "      <th>3</th>\n",
       "      <td>blk_-9073992586687739851</td>\n",
       "      <td>[1, 7, 1, 1, 3, 4, 3, 4, 3, 4, 2, 2, 2, 10, 10...</td>\n",
       "      <td>normal</td>\n",
       "      <td>22</td>\n",
       "      <td>100</td>\n",
       "      <td>10</td>\n",
       "      <td>1</td>\n",
       "      <td>1</td>\n",
       "      <td>0</td>\n",
       "    </tr>\n",
       "    <tr>\n",
       "      <th>4</th>\n",
       "      <td>blk_7854771516489510256</td>\n",
       "      <td>[1, 1, 7, 1, 3, 4, 3, 4, 3, 4, 2, 2, 2, 10, 10...</td>\n",
       "      <td>normal</td>\n",
       "      <td>38</td>\n",
       "      <td>243</td>\n",
       "      <td>10</td>\n",
       "      <td>1</td>\n",
       "      <td>9</td>\n",
       "      <td>1</td>\n",
       "    </tr>\n",
       "    <tr>\n",
       "      <th>5</th>\n",
       "      <td>blk_1717858812220360316</td>\n",
       "      <td>[1, 1, 7, 1, 3, 4, 3, 4, 3, 4, 2, 2, 2, 10, 10...</td>\n",
       "      <td>normal</td>\n",
       "      <td>38</td>\n",
       "      <td>243</td>\n",
       "      <td>10</td>\n",
       "      <td>1</td>\n",
       "      <td>9</td>\n",
       "      <td>1</td>\n",
       "    </tr>\n",
       "    <tr>\n",
       "      <th>6</th>\n",
       "      <td>blk_-2519617320378473615</td>\n",
       "      <td>[1, 7, 1, 1, 3, 3, 4, 4, 3, 4, 2, 2, 2, 10, 10...</td>\n",
       "      <td>normal</td>\n",
       "      <td>38</td>\n",
       "      <td>243</td>\n",
       "      <td>10</td>\n",
       "      <td>1</td>\n",
       "      <td>9</td>\n",
       "      <td>1</td>\n",
       "    </tr>\n",
       "    <tr>\n",
       "      <th>7</th>\n",
       "      <td>blk_7063315473424667801</td>\n",
       "      <td>[1, 1, 1, 7, 3, 4, 3, 4, 2, 2, 3, 4, 2, 10, 10...</td>\n",
       "      <td>normal</td>\n",
       "      <td>38</td>\n",
       "      <td>243</td>\n",
       "      <td>10</td>\n",
       "      <td>1</td>\n",
       "      <td>9</td>\n",
       "      <td>1</td>\n",
       "    </tr>\n",
       "    <tr>\n",
       "      <th>8</th>\n",
       "      <td>blk_8586544123689943463</td>\n",
       "      <td>[1, 1, 1, 7, 3, 4, 3, 3, 4, 4, 2, 2, 2, 10, 10...</td>\n",
       "      <td>normal</td>\n",
       "      <td>38</td>\n",
       "      <td>243</td>\n",
       "      <td>10</td>\n",
       "      <td>1</td>\n",
       "      <td>9</td>\n",
       "      <td>1</td>\n",
       "    </tr>\n",
       "    <tr>\n",
       "      <th>9</th>\n",
       "      <td>blk_2765344736980045501</td>\n",
       "      <td>[1, 1, 7, 1, 3, 4, 3, 4, 2, 3, 4, 2, 2, 10, 10...</td>\n",
       "      <td>normal</td>\n",
       "      <td>38</td>\n",
       "      <td>243</td>\n",
       "      <td>10</td>\n",
       "      <td>1</td>\n",
       "      <td>9</td>\n",
       "      <td>1</td>\n",
       "    </tr>\n",
       "  </tbody>\n",
       "</table>\n",
       "</div>"
      ],
      "text/plain": [
       "                    BlockId  \\\n",
       "0  blk_-1608999687919862906   \n",
       "1   blk_7503483334202473044   \n",
       "2  blk_-3544583377289625738   \n",
       "3  blk_-9073992586687739851   \n",
       "4   blk_7854771516489510256   \n",
       "5   blk_1717858812220360316   \n",
       "6  blk_-2519617320378473615   \n",
       "7   blk_7063315473424667801   \n",
       "8   blk_8586544123689943463   \n",
       "9   blk_2765344736980045501   \n",
       "\n",
       "                                       EventSequence     Label  seq_len  \\\n",
       "0  [1, 7, 1, 1, 3, 3, 4, 4, 3, 4, 2, 2, 2, 11, 1,...    normal      269   \n",
       "1  [1, 1, 7, 1, 3, 4, 3, 4, 3, 4, 2, 2, 2, 8, 10,...    normal       22   \n",
       "2  [1, 7, 1, 1, 3, 4, 3, 4, 3, 4, 8, 2, 2, 2, 8, ...  abnormal      223   \n",
       "3  [1, 7, 1, 1, 3, 4, 3, 4, 3, 4, 2, 2, 2, 10, 10...    normal       22   \n",
       "4  [1, 1, 7, 1, 3, 4, 3, 4, 3, 4, 2, 2, 2, 10, 10...    normal       38   \n",
       "5  [1, 1, 7, 1, 3, 4, 3, 4, 3, 4, 2, 2, 2, 10, 10...    normal       38   \n",
       "6  [1, 7, 1, 1, 3, 3, 4, 4, 3, 4, 2, 2, 2, 10, 10...    normal       38   \n",
       "7  [1, 1, 1, 7, 3, 4, 3, 4, 2, 2, 3, 4, 2, 10, 10...    normal       38   \n",
       "8  [1, 1, 1, 7, 3, 4, 3, 3, 4, 4, 2, 2, 2, 10, 10...    normal       38   \n",
       "9  [1, 1, 7, 1, 3, 4, 3, 4, 2, 3, 4, 2, 2, 10, 10...    normal       38   \n",
       "\n",
       "   seq_sum  seq_max  seq_min  seq_freq1  cluster_labels  \n",
       "0     2067       21        1          8               4  \n",
       "1       98       10        1          1               0  \n",
       "2     1709       15        1          8               4  \n",
       "3      100       10        1          1               0  \n",
       "4      243       10        1          9               1  \n",
       "5      243       10        1          9               1  \n",
       "6      243       10        1          9               1  \n",
       "7      243       10        1          9               1  \n",
       "8      243       10        1          9               1  \n",
       "9      243       10        1          9               1  "
      ]
     },
     "execution_count": 11,
     "metadata": {},
     "output_type": "execute_result"
    }
   ],
   "source": [
    "## apply KMeans clustering\n",
    "kmeans = KMeans(n_clusters=5, random_state=42).fit(data[['seq_len', 'seq_sum', 'seq_max', 'seq_min', 'seq_freq1']])\n",
    "data['cluster_labels'] = kmeans.labels_\n",
    "data.head(10)"
   ]
  },
  {
   "cell_type": "code",
   "execution_count": 12,
   "id": "f41c41f1",
   "metadata": {},
   "outputs": [
    {
     "data": {
      "text/plain": [
       "cluster_labels\n",
       "2    328837\n",
       "3    107947\n",
       "0    100122\n",
       "1     38111\n",
       "4        44\n",
       "Name: count, dtype: int64"
      ]
     },
     "execution_count": 12,
     "metadata": {},
     "output_type": "execute_result"
    }
   ],
   "source": [
    "data['cluster_labels'].value_counts()"
   ]
  },
  {
   "cell_type": "code",
   "execution_count": 13,
   "id": "e5416673",
   "metadata": {},
   "outputs": [
    {
     "data": {
      "text/html": [
       "<div>\n",
       "<style scoped>\n",
       "    .dataframe tbody tr th:only-of-type {\n",
       "        vertical-align: middle;\n",
       "    }\n",
       "\n",
       "    .dataframe tbody tr th {\n",
       "        vertical-align: top;\n",
       "    }\n",
       "\n",
       "    .dataframe thead th {\n",
       "        text-align: right;\n",
       "    }\n",
       "</style>\n",
       "<table border=\"1\" class=\"dataframe\">\n",
       "  <thead>\n",
       "    <tr style=\"text-align: right;\">\n",
       "      <th></th>\n",
       "      <th>BlockId</th>\n",
       "      <th>EventSequence</th>\n",
       "      <th>Label</th>\n",
       "      <th>seq_len</th>\n",
       "      <th>seq_sum</th>\n",
       "      <th>seq_max</th>\n",
       "      <th>seq_min</th>\n",
       "      <th>seq_freq1</th>\n",
       "      <th>cluster_labels</th>\n",
       "      <th>cluster_cls</th>\n",
       "    </tr>\n",
       "  </thead>\n",
       "  <tbody>\n",
       "    <tr>\n",
       "      <th>0</th>\n",
       "      <td>blk_-1608999687919862906</td>\n",
       "      <td>[1, 7, 1, 1, 3, 3, 4, 4, 3, 4, 2, 2, 2, 11, 1,...</td>\n",
       "      <td>normal</td>\n",
       "      <td>269</td>\n",
       "      <td>2067</td>\n",
       "      <td>21</td>\n",
       "      <td>1</td>\n",
       "      <td>8</td>\n",
       "      <td>4</td>\n",
       "      <td>anomaly</td>\n",
       "    </tr>\n",
       "    <tr>\n",
       "      <th>1</th>\n",
       "      <td>blk_7503483334202473044</td>\n",
       "      <td>[1, 1, 7, 1, 3, 4, 3, 4, 3, 4, 2, 2, 2, 8, 10,...</td>\n",
       "      <td>normal</td>\n",
       "      <td>22</td>\n",
       "      <td>98</td>\n",
       "      <td>10</td>\n",
       "      <td>1</td>\n",
       "      <td>1</td>\n",
       "      <td>0</td>\n",
       "      <td>normal</td>\n",
       "    </tr>\n",
       "    <tr>\n",
       "      <th>2</th>\n",
       "      <td>blk_-3544583377289625738</td>\n",
       "      <td>[1, 7, 1, 1, 3, 4, 3, 4, 3, 4, 8, 2, 2, 2, 8, ...</td>\n",
       "      <td>abnormal</td>\n",
       "      <td>223</td>\n",
       "      <td>1709</td>\n",
       "      <td>15</td>\n",
       "      <td>1</td>\n",
       "      <td>8</td>\n",
       "      <td>4</td>\n",
       "      <td>anomaly</td>\n",
       "    </tr>\n",
       "    <tr>\n",
       "      <th>3</th>\n",
       "      <td>blk_-9073992586687739851</td>\n",
       "      <td>[1, 7, 1, 1, 3, 4, 3, 4, 3, 4, 2, 2, 2, 10, 10...</td>\n",
       "      <td>normal</td>\n",
       "      <td>22</td>\n",
       "      <td>100</td>\n",
       "      <td>10</td>\n",
       "      <td>1</td>\n",
       "      <td>1</td>\n",
       "      <td>0</td>\n",
       "      <td>normal</td>\n",
       "    </tr>\n",
       "    <tr>\n",
       "      <th>4</th>\n",
       "      <td>blk_7854771516489510256</td>\n",
       "      <td>[1, 1, 7, 1, 3, 4, 3, 4, 3, 4, 2, 2, 2, 10, 10...</td>\n",
       "      <td>normal</td>\n",
       "      <td>38</td>\n",
       "      <td>243</td>\n",
       "      <td>10</td>\n",
       "      <td>1</td>\n",
       "      <td>9</td>\n",
       "      <td>1</td>\n",
       "      <td>anomaly</td>\n",
       "    </tr>\n",
       "  </tbody>\n",
       "</table>\n",
       "</div>"
      ],
      "text/plain": [
       "                    BlockId  \\\n",
       "0  blk_-1608999687919862906   \n",
       "1   blk_7503483334202473044   \n",
       "2  blk_-3544583377289625738   \n",
       "3  blk_-9073992586687739851   \n",
       "4   blk_7854771516489510256   \n",
       "\n",
       "                                       EventSequence     Label  seq_len  \\\n",
       "0  [1, 7, 1, 1, 3, 3, 4, 4, 3, 4, 2, 2, 2, 11, 1,...    normal      269   \n",
       "1  [1, 1, 7, 1, 3, 4, 3, 4, 3, 4, 2, 2, 2, 8, 10,...    normal       22   \n",
       "2  [1, 7, 1, 1, 3, 4, 3, 4, 3, 4, 8, 2, 2, 2, 8, ...  abnormal      223   \n",
       "3  [1, 7, 1, 1, 3, 4, 3, 4, 3, 4, 2, 2, 2, 10, 10...    normal       22   \n",
       "4  [1, 1, 7, 1, 3, 4, 3, 4, 3, 4, 2, 2, 2, 10, 10...    normal       38   \n",
       "\n",
       "   seq_sum  seq_max  seq_min  seq_freq1  cluster_labels cluster_cls  \n",
       "0     2067       21        1          8               4     anomaly  \n",
       "1       98       10        1          1               0      normal  \n",
       "2     1709       15        1          8               4     anomaly  \n",
       "3      100       10        1          1               0      normal  \n",
       "4      243       10        1          9               1     anomaly  "
      ]
     },
     "execution_count": 13,
     "metadata": {},
     "output_type": "execute_result"
    }
   ],
   "source": [
    "## Classify cluster labels of 1 and 4 as anomalies, since these are a small minority.\n",
    "clus = data['cluster_labels'].values\n",
    "cond1 = (clus == 1)\n",
    "cond2 = (clus == 4)\n",
    "data['cluster_cls'] = np.where(cond1 | cond2, 'anomaly', 'normal')\n",
    "data.head()"
   ]
  },
  {
   "cell_type": "markdown",
   "id": "05e02bbe",
   "metadata": {},
   "source": [
    "**Natural Language Processing (NLP) Based Pre-processing and Feature Extraction:**\n",
    "\n",
    "Lemmatizing was done as part of pre-processing, and vectorization were done to extract the features from the list of token IDs within the EventSequence column.  The code for vectorization is included in the Pipeline commands used during model creation below."
   ]
  },
  {
   "cell_type": "code",
   "execution_count": 14,
   "id": "05502d03",
   "metadata": {},
   "outputs": [],
   "source": [
    "## function for lemmatizing\n",
    "def lemmatize(text):\n",
    "    text = text[1:-1]  # delete \"[\" and \"]\"\n",
    "    l1 = text.split(', ') # split string into a list\n",
    "    #tokens = word_tokenize(text)\n",
    "    lemma = WordNetLemmatizer()\n",
    "    lemmatized_words = [lemma.lemmatize(w) for w in l1]\n",
    "    lemma_str = ' '.join(lemmatized_words)\n",
    "    \n",
    "    return lemma_str"
   ]
  },
  {
   "cell_type": "code",
   "execution_count": 15,
   "id": "e749732b",
   "metadata": {},
   "outputs": [
    {
     "data": {
      "text/plain": [
       "'1 7 1 1'"
      ]
     },
     "execution_count": 15,
     "metadata": {},
     "output_type": "execute_result"
    }
   ],
   "source": [
    "lemma_str = lemmatize('[1, 7, 1, 1]')\n",
    "lemma_str"
   ]
  },
  {
   "cell_type": "code",
   "execution_count": 16,
   "id": "613ffb5b",
   "metadata": {},
   "outputs": [
    {
     "data": {
      "text/html": [
       "<div>\n",
       "<style scoped>\n",
       "    .dataframe tbody tr th:only-of-type {\n",
       "        vertical-align: middle;\n",
       "    }\n",
       "\n",
       "    .dataframe tbody tr th {\n",
       "        vertical-align: top;\n",
       "    }\n",
       "\n",
       "    .dataframe thead th {\n",
       "        text-align: right;\n",
       "    }\n",
       "</style>\n",
       "<table border=\"1\" class=\"dataframe\">\n",
       "  <thead>\n",
       "    <tr style=\"text-align: right;\">\n",
       "      <th></th>\n",
       "      <th>BlockId</th>\n",
       "      <th>EventSequence</th>\n",
       "      <th>Label</th>\n",
       "      <th>seq_len</th>\n",
       "      <th>seq_sum</th>\n",
       "      <th>seq_max</th>\n",
       "      <th>seq_min</th>\n",
       "      <th>seq_freq1</th>\n",
       "      <th>cluster_labels</th>\n",
       "      <th>cluster_cls</th>\n",
       "      <th>PreprocessTokens</th>\n",
       "    </tr>\n",
       "  </thead>\n",
       "  <tbody>\n",
       "    <tr>\n",
       "      <th>0</th>\n",
       "      <td>blk_-1608999687919862906</td>\n",
       "      <td>[1, 7, 1, 1, 3, 3, 4, 4, 3, 4, 2, 2, 2, 11, 1,...</td>\n",
       "      <td>normal</td>\n",
       "      <td>269</td>\n",
       "      <td>2067</td>\n",
       "      <td>21</td>\n",
       "      <td>1</td>\n",
       "      <td>8</td>\n",
       "      <td>4</td>\n",
       "      <td>anomaly</td>\n",
       "      <td>1 7 1 1 3 3 4 4 3 4 2 2 2 11 1 12 11 1 21 20 2...</td>\n",
       "    </tr>\n",
       "    <tr>\n",
       "      <th>1</th>\n",
       "      <td>blk_7503483334202473044</td>\n",
       "      <td>[1, 1, 7, 1, 3, 4, 3, 4, 3, 4, 2, 2, 2, 8, 10,...</td>\n",
       "      <td>normal</td>\n",
       "      <td>22</td>\n",
       "      <td>98</td>\n",
       "      <td>10</td>\n",
       "      <td>1</td>\n",
       "      <td>1</td>\n",
       "      <td>0</td>\n",
       "      <td>normal</td>\n",
       "      <td>1 1 7 1 3 4 3 4 3 4 2 2 2 8 10 10 6 6 6 5 5 5</td>\n",
       "    </tr>\n",
       "    <tr>\n",
       "      <th>2</th>\n",
       "      <td>blk_-3544583377289625738</td>\n",
       "      <td>[1, 7, 1, 1, 3, 4, 3, 4, 3, 4, 8, 2, 2, 2, 8, ...</td>\n",
       "      <td>abnormal</td>\n",
       "      <td>223</td>\n",
       "      <td>1709</td>\n",
       "      <td>15</td>\n",
       "      <td>1</td>\n",
       "      <td>8</td>\n",
       "      <td>4</td>\n",
       "      <td>anomaly</td>\n",
       "      <td>1 7 1 1 3 4 3 4 3 4 8 2 2 2 8 8 8 8 8 8 8 8 8 ...</td>\n",
       "    </tr>\n",
       "    <tr>\n",
       "      <th>3</th>\n",
       "      <td>blk_-9073992586687739851</td>\n",
       "      <td>[1, 7, 1, 1, 3, 4, 3, 4, 3, 4, 2, 2, 2, 10, 10...</td>\n",
       "      <td>normal</td>\n",
       "      <td>22</td>\n",
       "      <td>100</td>\n",
       "      <td>10</td>\n",
       "      <td>1</td>\n",
       "      <td>1</td>\n",
       "      <td>0</td>\n",
       "      <td>normal</td>\n",
       "      <td>1 7 1 1 3 4 3 4 3 4 2 2 2 10 10 10 6 6 6 5 5 5</td>\n",
       "    </tr>\n",
       "    <tr>\n",
       "      <th>4</th>\n",
       "      <td>blk_7854771516489510256</td>\n",
       "      <td>[1, 1, 7, 1, 3, 4, 3, 4, 3, 4, 2, 2, 2, 10, 10...</td>\n",
       "      <td>normal</td>\n",
       "      <td>38</td>\n",
       "      <td>243</td>\n",
       "      <td>10</td>\n",
       "      <td>1</td>\n",
       "      <td>9</td>\n",
       "      <td>1</td>\n",
       "      <td>anomaly</td>\n",
       "      <td>1 1 7 1 3 4 3 4 3 4 2 2 2 10 10 10 9 9 9 9 9 9...</td>\n",
       "    </tr>\n",
       "  </tbody>\n",
       "</table>\n",
       "</div>"
      ],
      "text/plain": [
       "                    BlockId  \\\n",
       "0  blk_-1608999687919862906   \n",
       "1   blk_7503483334202473044   \n",
       "2  blk_-3544583377289625738   \n",
       "3  blk_-9073992586687739851   \n",
       "4   blk_7854771516489510256   \n",
       "\n",
       "                                       EventSequence     Label  seq_len  \\\n",
       "0  [1, 7, 1, 1, 3, 3, 4, 4, 3, 4, 2, 2, 2, 11, 1,...    normal      269   \n",
       "1  [1, 1, 7, 1, 3, 4, 3, 4, 3, 4, 2, 2, 2, 8, 10,...    normal       22   \n",
       "2  [1, 7, 1, 1, 3, 4, 3, 4, 3, 4, 8, 2, 2, 2, 8, ...  abnormal      223   \n",
       "3  [1, 7, 1, 1, 3, 4, 3, 4, 3, 4, 2, 2, 2, 10, 10...    normal       22   \n",
       "4  [1, 1, 7, 1, 3, 4, 3, 4, 3, 4, 2, 2, 2, 10, 10...    normal       38   \n",
       "\n",
       "   seq_sum  seq_max  seq_min  seq_freq1  cluster_labels cluster_cls  \\\n",
       "0     2067       21        1          8               4     anomaly   \n",
       "1       98       10        1          1               0      normal   \n",
       "2     1709       15        1          8               4     anomaly   \n",
       "3      100       10        1          1               0      normal   \n",
       "4      243       10        1          9               1     anomaly   \n",
       "\n",
       "                                    PreprocessTokens  \n",
       "0  1 7 1 1 3 3 4 4 3 4 2 2 2 11 1 12 11 1 21 20 2...  \n",
       "1      1 1 7 1 3 4 3 4 3 4 2 2 2 8 10 10 6 6 6 5 5 5  \n",
       "2  1 7 1 1 3 4 3 4 3 4 8 2 2 2 8 8 8 8 8 8 8 8 8 ...  \n",
       "3     1 7 1 1 3 4 3 4 3 4 2 2 2 10 10 10 6 6 6 5 5 5  \n",
       "4  1 1 7 1 3 4 3 4 3 4 2 2 2 10 10 10 9 9 9 9 9 9...  "
      ]
     },
     "execution_count": 16,
     "metadata": {},
     "output_type": "execute_result"
    }
   ],
   "source": [
    "df_lemma = data.copy()\n",
    "df_lemma['PreprocessTokens'] = df_lemma['EventSequence'].apply(lemmatize)\n",
    "df_lemma.head()"
   ]
  },
  {
   "cell_type": "code",
   "execution_count": 17,
   "id": "226e4bb7",
   "metadata": {},
   "outputs": [],
   "source": [
    "X = df_lemma['PreprocessTokens']\n",
    "y = df_lemma['cluster_cls']"
   ]
  },
  {
   "cell_type": "code",
   "execution_count": 18,
   "id": "d6d552a7",
   "metadata": {},
   "outputs": [],
   "source": [
    "y2 = np.where(y=='normal', 0, 1)"
   ]
  },
  {
   "cell_type": "code",
   "execution_count": 19,
   "id": "3230d25c",
   "metadata": {},
   "outputs": [],
   "source": [
    "## Split between train and test\n",
    "X_train, X_test, y_train, y_test = train_test_split(X, y2, test_size=0.3, random_state=42, stratify=y)\n",
    "#X_train, X_test, y_train, y_test = train_test_split(X, y, test_size=0.5, random_state=42, stratify=y)\n",
    "#X_train, X_test, y_train, y_test = train_test_split(X, y, test_size=0.3)"
   ]
  },
  {
   "cell_type": "markdown",
   "id": "9563a5c7",
   "metadata": {},
   "source": [
    "**Classification Models to Predict Normal vs. Anomaly**\n",
    "\n",
    "Classification models were created to predict if a sequence of token IDs are normal or anomaly.  Here, Decision Tree Classifier and Logistic Regression were used.  Along with the classification algorithm, NLP based vectorization was done to extract features from the list of token IDs."
   ]
  },
  {
   "cell_type": "code",
   "execution_count": 20,
   "id": "19d29bf4",
   "metadata": {},
   "outputs": [
    {
     "name": "stdout",
     "output_type": "stream",
     "text": [
      "training accuracy = 0.9382772480883982\n",
      "test accuracy = 0.9378329343434636\n",
      "mean fit time = 0.5210308790206909\n",
      "best parameters:\n",
      "{'cvect__max_features': 40, 'dtree__max_depth': 9}\n"
     ]
    }
   ],
   "source": [
    "## Decision Tree\n",
    "dtree_pipe = Pipeline([\\\n",
    "                       ('cvect', CountVectorizer()),\\\n",
    "                       ('dtree', DecisionTreeClassifier(random_state=42))])\n",
    "#params1 = {'cvect__max_features': [10, 25, 40, 50], 'cvect__stop_words': ['english', None], \\\n",
    "#          'dtree__max_depth': [1, 3, 5, 7, 9]}\n",
    "params1 = {'cvect__max_features': [10, 25, 40, 50], 'dtree__max_depth': [1, 3, 5, 7, 9]}\n",
    "dtree_grid = GridSearchCV(dtree_pipe, param_grid=params1, scoring='recall')\n",
    "dtree_grid.fit(X_train, y_train)\n",
    "pred_train = dtree_grid.predict(X_train)\n",
    "dtree_train_acc = accuracy_score(y_train, pred_train)\n",
    "pred_test = dtree_grid.predict(X_test)\n",
    "dtree_test_acc = accuracy_score(y_test, pred_test)\n",
    "print(f'training accuracy = {dtree_train_acc}')\n",
    "print(f'test accuracy = {dtree_test_acc}')\n",
    "\n",
    "## Mean fit time\n",
    "dtree_mft = np.mean(dtree_grid.cv_results_['mean_fit_time'])\n",
    "print(f'mean fit time = {dtree_mft}')\n",
    "\n",
    "## Best parameters\n",
    "print('best parameters:')\n",
    "print(dtree_grid.best_params_)"
   ]
  },
  {
   "cell_type": "code",
   "execution_count": 21,
   "id": "8818b835",
   "metadata": {},
   "outputs": [
    {
     "data": {
      "text/plain": [
       "0.8706365503080082"
      ]
     },
     "execution_count": 21,
     "metadata": {},
     "output_type": "execute_result"
    }
   ],
   "source": [
    "## Decision Tree precision\n",
    "dtree_precision = precision_score(y_test, pred_test)\n",
    "dtree_precision"
   ]
  },
  {
   "cell_type": "code",
   "execution_count": 22,
   "id": "9b81a5cf",
   "metadata": {},
   "outputs": [
    {
     "data": {
      "text/plain": [
       "0.0740805451209924"
      ]
     },
     "execution_count": 22,
     "metadata": {},
     "output_type": "execute_result"
    }
   ],
   "source": [
    "## Decision Tree recall\n",
    "dtree_recall = recall_score(y_test, pred_test)\n",
    "dtree_recall"
   ]
  },
  {
   "cell_type": "code",
   "execution_count": 23,
   "id": "174d26b1",
   "metadata": {},
   "outputs": [
    {
     "name": "stdout",
     "output_type": "stream",
     "text": [
      "38\n",
      "38\n",
      "['10' '11' '12' '13' '14' '15' '16' '17' '18' '19' '20' '21' '22' '23'\n",
      " '24' '25' '26' '27' '28' '29' '30' '31' '32' '33' '34' '35' '36' '37'\n",
      " '38' '39' '40' '41' '42' '43' '44' '45' '46' '47']\n"
     ]
    },
    {
     "data": {
      "text/html": [
       "<div>\n",
       "<style scoped>\n",
       "    .dataframe tbody tr th:only-of-type {\n",
       "        vertical-align: middle;\n",
       "    }\n",
       "\n",
       "    .dataframe tbody tr th {\n",
       "        vertical-align: top;\n",
       "    }\n",
       "\n",
       "    .dataframe thead th {\n",
       "        text-align: right;\n",
       "    }\n",
       "</style>\n",
       "<table border=\"1\" class=\"dataframe\">\n",
       "  <thead>\n",
       "    <tr style=\"text-align: right;\">\n",
       "      <th></th>\n",
       "      <th>feature</th>\n",
       "      <th>importances</th>\n",
       "    </tr>\n",
       "  </thead>\n",
       "  <tbody>\n",
       "    <tr>\n",
       "      <th>1</th>\n",
       "      <td>11</td>\n",
       "      <td>0.454425</td>\n",
       "    </tr>\n",
       "    <tr>\n",
       "      <th>0</th>\n",
       "      <td>10</td>\n",
       "      <td>0.198897</td>\n",
       "    </tr>\n",
       "    <tr>\n",
       "      <th>5</th>\n",
       "      <td>15</td>\n",
       "      <td>0.135913</td>\n",
       "    </tr>\n",
       "    <tr>\n",
       "      <th>3</th>\n",
       "      <td>13</td>\n",
       "      <td>0.105538</td>\n",
       "    </tr>\n",
       "    <tr>\n",
       "      <th>8</th>\n",
       "      <td>18</td>\n",
       "      <td>0.070886</td>\n",
       "    </tr>\n",
       "    <tr>\n",
       "      <th>9</th>\n",
       "      <td>19</td>\n",
       "      <td>0.008253</td>\n",
       "    </tr>\n",
       "    <tr>\n",
       "      <th>16</th>\n",
       "      <td>26</td>\n",
       "      <td>0.006295</td>\n",
       "    </tr>\n",
       "    <tr>\n",
       "      <th>4</th>\n",
       "      <td>14</td>\n",
       "      <td>0.005029</td>\n",
       "    </tr>\n",
       "    <tr>\n",
       "      <th>6</th>\n",
       "      <td>16</td>\n",
       "      <td>0.004660</td>\n",
       "    </tr>\n",
       "    <tr>\n",
       "      <th>15</th>\n",
       "      <td>25</td>\n",
       "      <td>0.003655</td>\n",
       "    </tr>\n",
       "  </tbody>\n",
       "</table>\n",
       "</div>"
      ],
      "text/plain": [
       "   feature  importances\n",
       "1       11     0.454425\n",
       "0       10     0.198897\n",
       "5       15     0.135913\n",
       "3       13     0.105538\n",
       "8       18     0.070886\n",
       "9       19     0.008253\n",
       "16      26     0.006295\n",
       "4       14     0.005029\n",
       "6       16     0.004660\n",
       "15      25     0.003655"
      ]
     },
     "execution_count": 23,
     "metadata": {},
     "output_type": "execute_result"
    }
   ],
   "source": [
    "## Decision Tree: most important features\n",
    "best_est = dtree_grid.best_estimator_\n",
    "model = best_est.named_steps['dtree']\n",
    "importances = model.feature_importances_\n",
    "print(len(importances))\n",
    "trans1 = best_est.named_steps['cvect']\n",
    "features1 = trans1.get_feature_names_out()\n",
    "print(len(features1))\n",
    "print(features1)\n",
    "\n",
    "imp_dict = {'feature': features1, 'importances': importances}\n",
    "imp_df = pd.DataFrame(imp_dict)\n",
    "#imp_df['importances'] = imp_df['importances'].apply(abs)\n",
    "imp_df = imp_df.sort_values(by='importances', ascending=False)\n",
    "imp_df[:10] # top 10 features based on absolute value of importance"
   ]
  },
  {
   "cell_type": "code",
   "execution_count": 24,
   "id": "351927a1",
   "metadata": {},
   "outputs": [
    {
     "data": {
      "image/png": "[encoded data removed]",
      "text/plain": [
       "<Figure size 640x480 with 2 Axes>"
      ]
     },
     "metadata": {},
     "output_type": "display_data"
    }
   ],
   "source": [
    "## Decision Tree: confusion matrix\n",
    "cm = confusion_matrix(y_test, pred_test)\n",
    "cm_plot = ConfusionMatrixDisplay(confusion_matrix=cm, display_labels=['normal','anomaly'])\n",
    "cm_plot.plot()\n",
    "plt.show()"
   ]
  },
  {
   "cell_type": "code",
   "execution_count": 25,
   "id": "29e58996",
   "metadata": {},
   "outputs": [
    {
     "name": "stdout",
     "output_type": "stream",
     "text": [
      "training accuracy = 0.9371345101877568\n",
      "test accuracy = 0.9368649250227511\n",
      "mean fit time = 1.1050085365772246\n",
      "best parameters:\n",
      "{'cvect__max_features': 40, 'lgr__C': 46.41588833612773}\n"
     ]
    }
   ],
   "source": [
    "## Logistic Regression\n",
    "lgr_pipe = Pipeline([\\\n",
    "                       ('cvect', CountVectorizer()),\\\n",
    "                       ('lgr', LogisticRegression(random_state=42, max_iter=1000))])\n",
    "params1 = {'cvect__max_features': [10, 25, 40, 50], 'lgr__C': np.logspace(-3,3,10)}\n",
    "lgr_grid = GridSearchCV(lgr_pipe, param_grid=params1, scoring='recall')\n",
    "lgr_grid.fit(X_train, y_train)\n",
    "pred_train = lgr_grid.predict(X_train)\n",
    "lgr_train_acc = accuracy_score(y_train, pred_train)\n",
    "pred_test = lgr_grid.predict(X_test)\n",
    "lgr_test_acc = accuracy_score(y_test, pred_test)\n",
    "print(f'training accuracy = {lgr_train_acc}')\n",
    "print(f'test accuracy = {lgr_test_acc}')\n",
    "\n",
    "## Mean fit time\n",
    "lgr_mft = np.mean(lgr_grid.cv_results_['mean_fit_time'])\n",
    "print(f'mean fit time = {lgr_mft}')\n",
    "\n",
    "## Best parameters\n",
    "print('best parameters:')\n",
    "print(lgr_grid.best_params_)"
   ]
  },
  {
   "cell_type": "code",
   "execution_count": 26,
   "id": "3d81eb38",
   "metadata": {},
   "outputs": [
    {
     "data": {
      "text/plain": [
       "0.9809358752166378"
      ]
     },
     "execution_count": 26,
     "metadata": {},
     "output_type": "execute_result"
    }
   ],
   "source": [
    "## Logistic Regression precision\n",
    "#lgr_precision = precision_score(y_test, pred_test, pos_label='anomaly')\n",
    "lgr_precision = precision_score(y_test, pred_test)\n",
    "lgr_precision"
   ]
  },
  {
   "cell_type": "code",
   "execution_count": 27,
   "id": "3cd1d1e4",
   "metadata": {},
   "outputs": [
    {
     "data": {
      "text/plain": [
       "0.049445269502926534"
      ]
     },
     "execution_count": 27,
     "metadata": {},
     "output_type": "execute_result"
    }
   ],
   "source": [
    "## Logistic Regression recall\n",
    "#lgr_recall = recall_score(y_test, pred_test, pos_label='anomaly')\n",
    "lgr_recall = recall_score(y_test, pred_test)\n",
    "lgr_recall"
   ]
  },
  {
   "cell_type": "code",
   "execution_count": 28,
   "id": "18249793",
   "metadata": {},
   "outputs": [
    {
     "data": {
      "image/png": "[encoded data removed]",
      "text/plain": [
       "<Figure size 640x480 with 2 Axes>"
      ]
     },
     "metadata": {},
     "output_type": "display_data"
    }
   ],
   "source": [
    "## Logistic Regression Confusion matrix\n",
    "cm = confusion_matrix(y_test, pred_test)\n",
    "cm_plot = ConfusionMatrixDisplay(confusion_matrix=cm, display_labels=['normal','anomaly'])\n",
    "cm_plot.plot()\n",
    "plt.show()"
   ]
  },
  {
   "cell_type": "code",
   "execution_count": 29,
   "id": "eadcd847",
   "metadata": {},
   "outputs": [
    {
     "data": {
      "text/plain": [
       "(161072, 11447)"
      ]
     },
     "execution_count": 29,
     "metadata": {},
     "output_type": "execute_result"
    }
   ],
   "source": [
    "y_normal = y_test[y_test==0]\n",
    "y_anomaly = y_test[y_test==1]\n",
    "len(y_normal), len(y_anomaly)"
   ]
  },
  {
   "cell_type": "code",
   "execution_count": 30,
   "id": "bfc1d1cc",
   "metadata": {},
   "outputs": [
    {
     "data": {
      "text/html": [
       "<div>\n",
       "<style scoped>\n",
       "    .dataframe tbody tr th:only-of-type {\n",
       "        vertical-align: middle;\n",
       "    }\n",
       "\n",
       "    .dataframe tbody tr th {\n",
       "        vertical-align: top;\n",
       "    }\n",
       "\n",
       "    .dataframe thead th {\n",
       "        text-align: right;\n",
       "    }\n",
       "</style>\n",
       "<table border=\"1\" class=\"dataframe\">\n",
       "  <thead>\n",
       "    <tr style=\"text-align: right;\">\n",
       "      <th></th>\n",
       "      <th>feature</th>\n",
       "      <th>coefs</th>\n",
       "    </tr>\n",
       "  </thead>\n",
       "  <tbody>\n",
       "    <tr>\n",
       "      <th>6</th>\n",
       "      <td>16</td>\n",
       "      <td>8.416458</td>\n",
       "    </tr>\n",
       "    <tr>\n",
       "      <th>16</th>\n",
       "      <td>26</td>\n",
       "      <td>4.643492</td>\n",
       "    </tr>\n",
       "    <tr>\n",
       "      <th>34</th>\n",
       "      <td>44</td>\n",
       "      <td>3.648225</td>\n",
       "    </tr>\n",
       "    <tr>\n",
       "      <th>28</th>\n",
       "      <td>38</td>\n",
       "      <td>3.143089</td>\n",
       "    </tr>\n",
       "    <tr>\n",
       "      <th>15</th>\n",
       "      <td>25</td>\n",
       "      <td>3.123675</td>\n",
       "    </tr>\n",
       "    <tr>\n",
       "      <th>27</th>\n",
       "      <td>37</td>\n",
       "      <td>3.116206</td>\n",
       "    </tr>\n",
       "    <tr>\n",
       "      <th>26</th>\n",
       "      <td>36</td>\n",
       "      <td>2.674151</td>\n",
       "    </tr>\n",
       "    <tr>\n",
       "      <th>24</th>\n",
       "      <td>34</td>\n",
       "      <td>2.510086</td>\n",
       "    </tr>\n",
       "    <tr>\n",
       "      <th>8</th>\n",
       "      <td>18</td>\n",
       "      <td>2.379913</td>\n",
       "    </tr>\n",
       "    <tr>\n",
       "      <th>18</th>\n",
       "      <td>28</td>\n",
       "      <td>2.203549</td>\n",
       "    </tr>\n",
       "  </tbody>\n",
       "</table>\n",
       "</div>"
      ],
      "text/plain": [
       "   feature     coefs\n",
       "6       16  8.416458\n",
       "16      26  4.643492\n",
       "34      44  3.648225\n",
       "28      38  3.143089\n",
       "15      25  3.123675\n",
       "27      37  3.116206\n",
       "26      36  2.674151\n",
       "24      34  2.510086\n",
       "8       18  2.379913\n",
       "18      28  2.203549"
      ]
     },
     "execution_count": 30,
     "metadata": {},
     "output_type": "execute_result"
    }
   ],
   "source": [
    "## Logistic Regression: find most important features\n",
    "best_est = lgr_grid.best_estimator_\n",
    "model = best_est.named_steps['lgr']\n",
    "coefs = model.coef_[0]\n",
    "#print(coefs)\n",
    "#print(len(coefs))\n",
    "trans1 = best_est.named_steps['cvect']\n",
    "features1 = trans1.get_feature_names_out()\n",
    "#print(features1)\n",
    "#print(len(features1))\n",
    "coef_dict = {'feature': features1, 'coefs': coefs}\n",
    "coef_df = pd.DataFrame(coef_dict)\n",
    "coef_df['coefs'] = coef_df['coefs'].apply(abs)\n",
    "coef_df = coef_df.sort_values(by='coefs', ascending=False)\n",
    "coef_df[:10] # top 10 features based on absolute value of coefficient"
   ]
  },
  {
   "cell_type": "code",
   "execution_count": 31,
   "id": "d7297aab",
   "metadata": {},
   "outputs": [
    {
     "data": {
      "text/plain": [
       "Text(0, 0.5, 'Absolute value of model coefficient')"
      ]
     },
     "execution_count": 31,
     "metadata": {},
     "output_type": "execute_result"
    },
    {
     "data": {
      "image/png": "[encoded data removed]",
      "text/plain": [
       "<Figure size 640x480 with 1 Axes>"
      ]
     },
     "metadata": {},
     "output_type": "display_data"
    }
   ],
   "source": [
    "## Logistic Regression: Seaborn plot of top (most important) 5 features for LogisticRegression model\n",
    "coef_top5 = coef_df[:5]\n",
    "sns.barplot(data=coef_top5, x='feature', y='coefs')\n",
    "plt.title('Logistic Regression: 5 Most Important Token IDs for Debugging Anomalies')\n",
    "plt.xlabel('Token ID')\n",
    "plt.ylabel('Absolute value of model coefficient')\n"
   ]
  },
  {
   "cell_type": "code",
   "execution_count": 32,
   "id": "dd10a1f3",
   "metadata": {},
   "outputs": [
    {
     "data": {
      "text/html": [
       "<div>\n",
       "<style scoped>\n",
       "    .dataframe tbody tr th:only-of-type {\n",
       "        vertical-align: middle;\n",
       "    }\n",
       "\n",
       "    .dataframe tbody tr th {\n",
       "        vertical-align: top;\n",
       "    }\n",
       "\n",
       "    .dataframe thead th {\n",
       "        text-align: right;\n",
       "    }\n",
       "</style>\n",
       "<table border=\"1\" class=\"dataframe\">\n",
       "  <thead>\n",
       "    <tr style=\"text-align: right;\">\n",
       "      <th></th>\n",
       "      <th>precision</th>\n",
       "      <th>recall</th>\n",
       "    </tr>\n",
       "    <tr>\n",
       "      <th>prob_thresh</th>\n",
       "      <th></th>\n",
       "      <th></th>\n",
       "    </tr>\n",
       "  </thead>\n",
       "  <tbody>\n",
       "    <tr>\n",
       "      <th>0.1</th>\n",
       "      <td>0.956250</td>\n",
       "      <td>0.013366</td>\n",
       "    </tr>\n",
       "    <tr>\n",
       "      <th>0.2</th>\n",
       "      <td>0.983051</td>\n",
       "      <td>0.035468</td>\n",
       "    </tr>\n",
       "    <tr>\n",
       "      <th>0.3</th>\n",
       "      <td>0.976247</td>\n",
       "      <td>0.035905</td>\n",
       "    </tr>\n",
       "    <tr>\n",
       "      <th>0.4</th>\n",
       "      <td>0.982548</td>\n",
       "      <td>0.049183</td>\n",
       "    </tr>\n",
       "    <tr>\n",
       "      <th>0.5</th>\n",
       "      <td>0.980936</td>\n",
       "      <td>0.049445</td>\n",
       "    </tr>\n",
       "    <tr>\n",
       "      <th>0.6</th>\n",
       "      <td>0.772395</td>\n",
       "      <td>0.073818</td>\n",
       "    </tr>\n",
       "    <tr>\n",
       "      <th>0.7</th>\n",
       "      <td>0.470588</td>\n",
       "      <td>0.080370</td>\n",
       "    </tr>\n",
       "    <tr>\n",
       "      <th>0.8</th>\n",
       "      <td>0.474518</td>\n",
       "      <td>0.083777</td>\n",
       "    </tr>\n",
       "    <tr>\n",
       "      <th>0.9</th>\n",
       "      <td>0.314262</td>\n",
       "      <td>0.098366</td>\n",
       "    </tr>\n",
       "  </tbody>\n",
       "</table>\n",
       "</div>"
      ],
      "text/plain": [
       "             precision    recall\n",
       "prob_thresh                     \n",
       "0.1           0.956250  0.013366\n",
       "0.2           0.983051  0.035468\n",
       "0.3           0.976247  0.035905\n",
       "0.4           0.982548  0.049183\n",
       "0.5           0.980936  0.049445\n",
       "0.6           0.772395  0.073818\n",
       "0.7           0.470588  0.080370\n",
       "0.8           0.474518  0.083777\n",
       "0.9           0.314262  0.098366"
      ]
     },
     "execution_count": 32,
     "metadata": {},
     "output_type": "execute_result"
    }
   ],
   "source": [
    "## Logistic Regression\n",
    "## Try sweeping the probability thresholds to see if recall can improve\n",
    "## Probability threshold: probability that sample is normal before it can be classified as normal\n",
    "predictMatrix = lgr_grid.predict_proba(X_test)\n",
    "thresh_inds = list(range(1, 10))\n",
    "prob_thrs1 = [round((0.1*i),1) for i in thresh_inds]\n",
    "#print(prob_thrs1)\n",
    "precisions1 = []\n",
    "recalls1 = []\n",
    "for prob_thr in prob_thrs1:\n",
    "    y_pred = np.where(predictMatrix[:, 0] > prob_thr, 0, 1)\n",
    "    precisions1.append(precision_score(y_test, y_pred))\n",
    "    recalls1.append(recall_score(y_test, y_pred))\n",
    "#print(f\"precisions1: {precisions1}\")\n",
    "#print(f\"recalls1: {recalls1}\")\n",
    "\n",
    "df1_scores = pd.DataFrame({'prob_thresh': prob_thrs1, 'precision': precisions1, 'recall': recalls1})\n",
    "df1_scores = df1_scores.set_index('prob_thresh')\n",
    "df1_scores"
   ]
  },
  {
   "cell_type": "code",
   "execution_count": 33,
   "id": "e64b33dd",
   "metadata": {},
   "outputs": [
    {
     "data": {
      "text/plain": [
       "<matplotlib.legend.Legend at 0x2a5f05850>"
      ]
     },
     "execution_count": 33,
     "metadata": {},
     "output_type": "execute_result"
    },
    {
     "data": {
      "image/png": "[encoded data removed]",
      "text/plain": [
       "<Figure size 640x480 with 1 Axes>"
      ]
     },
     "metadata": {},
     "output_type": "display_data"
    }
   ],
   "source": [
    "## Logistic Regression\n",
    "## Plots of precision and recall vs. probability threshold\n",
    "## Tried the probability threshold range from 0.1 to 0.9, but recall didn't improve much,\n",
    "## so keeping the default settings.\n",
    "plt.plot(prob_thrs1, precisions1, label='precision')\n",
    "plt.plot(prob_thrs1, recalls1, label='recall')\n",
    "plt.title('Logistic Regression: Precision/Recall vs. Probability Threshold \\n (Minimum Probability of \"normal\" to be classified as \"normal\")')\n",
    "plt.xlabel('Probability Threshold')\n",
    "plt.ylabel('Precision/Recall')\n",
    "plt.xticks(prob_thrs1)\n",
    "plt.legend()"
   ]
  },
  {
   "cell_type": "code",
   "execution_count": 34,
   "id": "367c7a76",
   "metadata": {},
   "outputs": [
    {
     "data": {
      "text/html": [
       "<div>\n",
       "<style scoped>\n",
       "    .dataframe tbody tr th:only-of-type {\n",
       "        vertical-align: middle;\n",
       "    }\n",
       "\n",
       "    .dataframe tbody tr th {\n",
       "        vertical-align: top;\n",
       "    }\n",
       "\n",
       "    .dataframe thead th {\n",
       "        text-align: right;\n",
       "    }\n",
       "</style>\n",
       "<table border=\"1\" class=\"dataframe\">\n",
       "  <thead>\n",
       "    <tr style=\"text-align: right;\">\n",
       "      <th></th>\n",
       "      <th>test_accuracy</th>\n",
       "      <th>precision</th>\n",
       "      <th>recall</th>\n",
       "      <th>mean_fit_time</th>\n",
       "    </tr>\n",
       "    <tr>\n",
       "      <th>model</th>\n",
       "      <th></th>\n",
       "      <th></th>\n",
       "      <th></th>\n",
       "      <th></th>\n",
       "    </tr>\n",
       "  </thead>\n",
       "  <tbody>\n",
       "    <tr>\n",
       "      <th>DecisionTree</th>\n",
       "      <td>0.94</td>\n",
       "      <td>0.87</td>\n",
       "      <td>0.07</td>\n",
       "      <td>0.521</td>\n",
       "    </tr>\n",
       "    <tr>\n",
       "      <th>LogisticRegression</th>\n",
       "      <td>0.94</td>\n",
       "      <td>0.98</td>\n",
       "      <td>0.05</td>\n",
       "      <td>1.105</td>\n",
       "    </tr>\n",
       "  </tbody>\n",
       "</table>\n",
       "</div>"
      ],
      "text/plain": [
       "                    test_accuracy  precision  recall  mean_fit_time\n",
       "model                                                              \n",
       "DecisionTree                 0.94       0.87    0.07          0.521\n",
       "LogisticRegression           0.94       0.98    0.05          1.105"
      ]
     },
     "execution_count": 34,
     "metadata": {},
     "output_type": "execute_result"
    }
   ],
   "source": [
    "## Dataframe summary of LogisticRegression and DecisionTree comparison\n",
    "cls_summary = pd.DataFrame({'model': ['DecisionTree', 'LogisticRegression'],\\\n",
    "                           'test_accuracy': [round(dtree_test_acc, 2), round(lgr_test_acc, 2)],\\\n",
    "                           'precision': [round(dtree_precision, 2), round(lgr_precision, 2)],\\\n",
    "                           'recall': [round(dtree_recall, 2), round(lgr_recall, 2)],\\\n",
    "                           'mean_fit_time': [round(dtree_mft, 4), round(lgr_mft, 4)]}).set_index('model')\n",
    "cls_summary"
   ]
  },
  {
   "cell_type": "code",
   "execution_count": 40,
   "id": "9a2d1a55",
   "metadata": {},
   "outputs": [
    {
     "data": {
      "text/plain": [
       "Text(0, 0.5, 'Mean Fit Time')"
      ]
     },
     "execution_count": 40,
     "metadata": {},
     "output_type": "execute_result"
    },
    {
     "data": {
      "image/png": "[encoded data removed]",
      "text/plain": [
       "<Figure size 1400x1500 with 4 Axes>"
      ]
     },
     "metadata": {},
     "output_type": "display_data"
    }
   ],
   "source": [
    "## Plots of Test Accuracy and Precision Score vs. Model Type\n",
    "fig, ax = plt.subplots(2, 2, figsize = (14, 15))\n",
    "sns.barplot(data=cls_summary, x=cls_summary.index, y='test_accuracy', ax=ax[0][0])\n",
    "ax[0][0].set_title('Test Accuracy Score for Anomaly Detection Classification Models')\n",
    "ax[0][0].set_xlabel('Model')\n",
    "ax[0][0].set_ylabel('Test Accuracy')\n",
    "sns.barplot(data=cls_summary, x=cls_summary.index, y='precision', ax=ax[0][1])\n",
    "ax[0][1].set_title('Precision Score for Anomaly Detection Classification Models')\n",
    "ax[0][1].set_xlabel('Model')\n",
    "ax[0][1].set_ylabel('Precision')\n",
    "sns.barplot(data=cls_summary, x=cls_summary.index, y='recall', ax=ax[1][0])\n",
    "ax[1][0].set_title('Recall Score for Anomaly Detection Classification Models')\n",
    "ax[1][0].set_xlabel('Model')\n",
    "ax[1][0].set_ylabel('Recall')\n",
    "sns.barplot(data=cls_summary, x=cls_summary.index, y='mean_fit_time', ax=ax[1][1])\n",
    "ax[1][1].set_title('Mean Fit Time for Anomaly Detection Classification Models')\n",
    "ax[1][1].set_xlabel('Model')\n",
    "ax[1][1].set_ylabel('Mean Fit Time')"
   ]
  },
  {
   "cell_type": "markdown",
   "id": "04c7a4de",
   "metadata": {},
   "source": [
    "**Summary and Conclusions**\n",
    "* Both Decision Tree and Logistic Regression have equal and high test accuracy (94% accuracy).\n",
    "* For both models, precision is high but recall is low.  This means that false predictions of anomalies is low, but false predictions of normal is high.\n",
    "* Main advantage of Decision Tree model is the speed, where mean fit time is less.\n",
    "* Further work needs to be done to find a model which improves the recall score without making the precision score signifantly worse.\n",
    "* Recommendation would be to use the Logistic Regression model, since this has higher precision score.\n",
    "* The most importance features to analyze while debugging the anomalies are these token IDs\n",
    "    * token ID 16\n",
    "    * token ID 26\n",
    "    * token ID 44\n",
    "    * token ID 38\n",
    "    * token ID 25\n",
    "* Important for the system validation user to check for the words or tokens corresponding to the above token IDs within the original logfile in order to debug the source of the anomalies or bugs. "
   ]
  }
 ],
 "metadata": {
  "kernelspec": {
   "display_name": "Python 3 (ipykernel)",
   "language": "python",
   "name": "python3"
  },
  "language_info": {
   "codemirror_mode": {
    "name": "ipython",
    "version": 3
   },
   "file_extension": ".py",
   "mimetype": "text/x-python",
   "name": "python",
   "nbconvert_exporter": "python",
   "pygments_lexer": "ipython3",
   "version": "3.11.3"
  }
 },
 "nbformat": 4,
 "nbformat_minor": 5
}
